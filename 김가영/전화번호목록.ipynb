{
 "cells": [
  {
   "cell_type": "code",
   "execution_count": null,
   "id": "6b2dbfc4",
   "metadata": {},
   "outputs": [],
   "source": [
    "######################### solution #################################\n",
    "# 1. phone_book 길이별로 sorting \n",
    "# 2. 앞에서부터 뒤에 있는지 count\n",
    "################################################################### \n",
    "\n",
    "# 접두어 확인 함수  \n",
    "def check_front_word(a,b):\n",
    "    len_a = len(a)\n",
    "    if b[:len(a)].count(a) != 1:\n",
    "        return 1\n",
    "    return 0\n",
    "\n",
    "\n",
    "def solution(phone_book):\n",
    "    answer = True\n",
    "    # 숫자변환 > 크기비교 > 문자열변환 \n",
    "    tmp = list(sorted(map(lambda x: int(x) , phone_book)))\n",
    "    phone_book = list(map(lambda x: str(x),tmp))\n",
    "    # 접두어 없으면 1, 있으면 0 \n",
    "    for i in range(len(phone_book)-1):\n",
    "        for j in range(i+1,len(phone_book)):\n",
    "            answer = check_front_word(phone_book[i],phone_book[j])\n",
    "            if answer == False : return False        \n",
    "    return True"
   ]
  },
  {
   "cell_type": "markdown",
   "id": "a46fb77c",
   "metadata": {},
   "source": [
    "채점 결과\n",
    "정확성: 79.2\n",
    "효율성: 8.3\n",
    "합계: 87.5 / 100.0"
   ]
  },
  {
   "cell_type": "code",
   "execution_count": null,
   "id": "c9efc79b",
   "metadata": {},
   "outputs": [],
   "source": [
    "######################### solution #################################\n",
    "# 1. phone_book 길이별로 sorting \n",
    "# 2. 앞에서부터 뒤에 있는지 count\n",
    "################################################################### \n",
    "\n",
    "# 접두어 확인 함수  \n",
    "def check_front_word(a,b):\n",
    "    len_a = len(a)\n",
    "    if b[:len(a)].count(a) != 1:\n",
    "        return 1\n",
    "    return 0\n",
    "\n",
    "\n",
    "def solution(phone_book):\n",
    "    answer = True\n",
    "    # 숫자변환 > 크기비교 > 문자열변환 \n",
    "    tmp = list(sorted(map(lambda x: int(x) , phone_book)))\n",
    "    phone_book = list(map(lambda x: str(x),tmp))\n",
    "    # lambda 함수 적용 \n",
    "    for i in range(len(phone_book)-1):\n",
    "        print(i)\n",
    "        num = phone_book[i]\n",
    "        res = list(map(lambda x:check_front_word(num,x), phone_book[i+1:]))\n",
    "        # 원소 중 0이 하나라도 존재하면 return False \n",
    "        if res.count(0)>=1: return False \n",
    "           \n",
    "    return True"
   ]
  },
  {
   "cell_type": "markdown",
   "id": "65cdc00c",
   "metadata": {},
   "source": [
    "채점 결과\n",
    "정확성: 79.2\n",
    "효율성: 8.3\n",
    "합계: 87.5 / 100.0"
   ]
  },
  {
   "cell_type": "markdown",
   "id": "4f6e004a",
   "metadata": {},
   "source": [
    "# 다른사람 풀이 "
   ]
  },
  {
   "cell_type": "code",
   "execution_count": null,
   "id": "707cc2da",
   "metadata": {},
   "outputs": [],
   "source": [
    "def solution(phoneBook):\n",
    "    phoneBook = sorted(phoneBook)\n",
    "    \n",
    "    for p1, p2 in zip(phoneBook, phoneBook[1:]):\n",
    "        if p2.startswith(p1):\n",
    "            return False\n",
    "    return True"
   ]
  },
  {
   "cell_type": "code",
   "execution_count": 9,
   "id": "02e786ce",
   "metadata": {},
   "outputs": [
    {
     "name": "stdout",
     "output_type": "stream",
     "text": [
      "['119', '1195524421', '12345', '97674223']\n",
      "119 1195524421\n",
      "True\n",
      "1195524421 12345\n",
      "False\n",
      "12345 97674223\n",
      "False\n"
     ]
    }
   ],
   "source": [
    "phoneBook = [\"119\", \"97674223\", \"1195524421\",\"12345\"]\n",
    "phoneBook = sorted(phoneBook)\n",
    "print(phoneBook)\n",
    "for p1, p2 in zip(phoneBook, phoneBook[1:]):\n",
    "    print(p1,p2)\n",
    "    print(p2.startswith(p1))\n"
   ]
  },
  {
   "cell_type": "markdown",
   "id": "cb78eb76",
   "metadata": {},
   "source": [
    "# 느낀점 "
   ]
  },
  {
   "cell_type": "markdown",
   "id": "142e9c62",
   "metadata": {},
   "source": [
    "- for문 두개로 풀이하니 효율성이 떨어졌다.\n",
    "- sort 한 시점으로 부터 i번째와 i+1번째 배열이 가장 비슷한게 나열된다\n",
    "- 따라서 i와 i+1번만 비교하면된다.\n",
    "- 접두어확인 : startswith 사용하면 된다. "
   ]
  }
 ],
 "metadata": {
  "kernelspec": {
   "display_name": "Python 3",
   "language": "python",
   "name": "python3"
  },
  "language_info": {
   "codemirror_mode": {
    "name": "ipython",
    "version": 3
   },
   "file_extension": ".py",
   "mimetype": "text/x-python",
   "name": "python",
   "nbconvert_exporter": "python",
   "pygments_lexer": "ipython3",
   "version": "3.9.2"
  }
 },
 "nbformat": 4,
 "nbformat_minor": 5
}
