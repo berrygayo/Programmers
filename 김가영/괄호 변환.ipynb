{
 "cells": [
  {
   "cell_type": "code",
   "execution_count": 35,
   "id": "2fa3ed9d",
   "metadata": {},
   "outputs": [],
   "source": [
    "# 균형잡힌 괄호 문자열 \n",
    "def check_balance(a):\n",
    "    if a.count(\"(\") == a.count(\")\") :\n",
    "        return 1 \n",
    "    else :\n",
    "        return 0 \n",
    "\n",
    "# 올바른 괄호 문자열 \n",
    "def check_correct(a):\n",
    "    if check_balance(a) == 0:\n",
    "        return 0\n",
    "    a = a.replace(\"(\",\" 1\").replace(\")\",\" -1\").split()\n",
    "    temp = 0\n",
    "    for i in a:\n",
    "        temp = temp+int(i)\n",
    "        if temp < 0:\n",
    "            return 0\n",
    "    print(\"올바른 문자열입니다.\")\n",
    "    return 1    \n",
    "\n",
    "\n",
    "def solution(p):\n",
    "    answer = ''\n",
    "    w = p \n",
    "    tmp = \"\"\n",
    "    # step 0 : 이미 올바른 괄호 문자열인 경우 \n",
    "    if check_correct(w) == 1:\n",
    "        return w\n",
    "    # step 1 : 입력이 빈 문자열인 경우, 빈 문자열을 반환합니다. \n",
    "    if w == \"\":\n",
    "        return w\n",
    "    # step 2 : 문자열 w를 두 \"균형잡힌 괄호 문자열\" u, v로 분리합니다. \n",
    "    # 단, u는 \"균형잡힌 괄호 문자열\"로 더 이상 분리할 수 없어야 하며, v는 빈 문자열이 될 수 있습니다.\n",
    "    balance_num = [i for i in range(1,len(w)+1) if check_balance(w[:i]) == 1 ] \n",
    "    u = w[:balance_num[0]]\n",
    "    v = w[balance_num[0]:]\n",
    "    if check_correct(u)==1 and check_correct(v)==1:\n",
    "        return  u + v \n",
    "    # step 3 : 문자열 u가 \"올바른 괄호 문자열\" 이라면 문자열 v에 대해 1단계부터 다시 수행합니다.\n",
    "    if check_correct(u) == 1:\n",
    "        answer = answer + u + solution(v)\n",
    "        return answer    \n",
    "    # step 4 : 문자열 u가 \"올바른 괄호 문자열\"이 아니라면 아래 과정을 수행합니다.  \n",
    "    else : \n",
    "        tmp = \"(\" + solution(v) + \")\"\n",
    "        u = u[1:-1]\n",
    "        for i in u:\n",
    "            if i == \"(\":\n",
    "                tmp = tmp + \")\"\n",
    "            else :\n",
    "                tmp = tmp + \"(\"          \n",
    "    answer = answer + tmp\n",
    "    return answer\n"
   ]
  },
  {
   "cell_type": "markdown",
   "id": "000902fc",
   "metadata": {},
   "source": [
    "# 느낀점 "
   ]
  },
  {
   "cell_type": "code",
   "execution_count": null,
   "id": "183d8efa",
   "metadata": {},
   "outputs": [],
   "source": []
  }
 ],
 "metadata": {
  "kernelspec": {
   "display_name": "Python 3",
   "language": "python",
   "name": "python3"
  },
  "language_info": {
   "codemirror_mode": {
    "name": "ipython",
    "version": 3
   },
   "file_extension": ".py",
   "mimetype": "text/x-python",
   "name": "python",
   "nbconvert_exporter": "python",
   "pygments_lexer": "ipython3",
   "version": "3.9.2"
  }
 },
 "nbformat": 4,
 "nbformat_minor": 5
}
