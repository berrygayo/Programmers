{
 "cells": [
  {
   "cell_type": "code",
   "execution_count": 128,
   "id": "fd638fbd",
   "metadata": {},
   "outputs": [],
   "source": [
    "# 소인수분해 \n",
    "def divid_fun(a):\n",
    "    i = 2\n",
    "    res = []\n",
    "    while i <= a:\n",
    "        if a%i == 0 :\n",
    "            a = a/i\n",
    "            string_i = str(i) + '_'\n",
    "            res.append(string_i)\n",
    "        else :\n",
    "            i += 1 \n",
    "    return res\n",
    "\n",
    "def rand_num(b):\n",
    "    res = [] \n",
    "    for i in range(len(b)):\n",
    "        res.append(b[i]+ f\"{i}\")\n",
    "    return res\n",
    "\n",
    "def solution(arr):\n",
    "    set_list = []\n",
    "    answer = 1\n",
    "    res = []\n",
    "    for num in arr:\n",
    "        set_list.append(rand_num(divid_fun(num)))\n",
    "        print(set_list)   \n",
    "        \n",
    "    a = {}\n",
    "    for i in range(len(set_list)):\n",
    "        a = set(a).union(set_list[i])\n",
    "    res = list(map(lambda x : int(x.split(\"_\")[0]), a))\n",
    "    for j in res:\n",
    "        answer=answer*j\n",
    "    return answer"
   ]
  },
  {
   "cell_type": "code",
   "execution_count": 129,
   "id": "bbbef0d6",
   "metadata": {},
   "outputs": [
    {
     "name": "stdout",
     "output_type": "stream",
     "text": [
      "[['2_0']]\n",
      "[['2_0'], ['2_0', '3_1']]\n",
      "[['2_0'], ['2_0', '3_1'], ['2_0', '2_1', '2_2']]\n",
      "[['2_0'], ['2_0', '3_1'], ['2_0', '2_1', '2_2'], ['2_0', '7_1']]\n"
     ]
    },
    {
     "data": {
      "text/plain": [
       "168"
      ]
     },
     "execution_count": 129,
     "metadata": {},
     "output_type": "execute_result"
    }
   ],
   "source": [
    "solution([2,6,8,14])"
   ]
  },
  {
   "cell_type": "code",
   "execution_count": 10,
   "id": "7bf8a2e7",
   "metadata": {},
   "outputs": [],
   "source": [
    "record = [\"Enter uid1234 Muzi\", \"Enter uid4567 Prodo\",\"Leave uid1234\",\"Enter uid1234 Prodo\",\"Change uid4567 Ryan\"]\n",
    "\n",
    "\n",
    "\n",
    "def solution(record):\n",
    "    answer = []\n",
    "    user_dict = {}\n",
    "    \n",
    "    for sentence in record:\n",
    "        # step 1 : user_id와 nickname 최종본을 dict 형태로 저장해둠 \n",
    "        # setting dict ( user_id & nickname matchig )\n",
    "        # Enter, Change -> insert nickname \n",
    "        # leave : Non-change\n",
    "        if sentence.split(\" \")[0] in [\"Enter\",\"Change\"] :\n",
    "            user_dict[f'{sentence.split(\" \")[1]}'] = sentence.split(\" \")[2]\n",
    "        \n",
    "    for sentence in record:\n",
    "            \n",
    "        # base_name \n",
    "        status = sentence.split(\" \")[0] # Enter\n",
    "        user_id = sentence.split(\" \")[1] # uid1234\n",
    "        nickname = user_dict[f'{user_id}'] # dict에서 uid에 해당하는 nickname 불러옴 \n",
    "        \n",
    "        if sentence.split(\" \")[0] == \"Enter\":\n",
    "            answer.append(f\"{nickname}님이 들어왔습니다.\")\n",
    "        elif sentence.split(\" \")[0] == \"Leave\":\n",
    "            answer.append(f\"{nickname}님이 나갔습니다.\")    \n",
    "    \n",
    "    return answer"
   ]
  },
  {
   "cell_type": "code",
   "execution_count": 11,
   "id": "b89b80a2",
   "metadata": {},
   "outputs": [
    {
     "data": {
      "text/plain": [
       "['Prodo님이 들어왔습니다.', 'Ryan님이 들어왔습니다.', 'Prodo님이 나갔습니다.', 'Prodo님이 들어왔습니다.']"
      ]
     },
     "execution_count": 11,
     "metadata": {},
     "output_type": "execute_result"
    }
   ],
   "source": [
    "solution(record)"
   ]
  }
 ],
 "metadata": {
  "kernelspec": {
   "display_name": "Python 3",
   "language": "python",
   "name": "python3"
  },
  "language_info": {
   "codemirror_mode": {
    "name": "ipython",
    "version": 3
   },
   "file_extension": ".py",
   "mimetype": "text/x-python",
   "name": "python",
   "nbconvert_exporter": "python",
   "pygments_lexer": "ipython3",
   "version": "3.9.2"
  }
 },
 "nbformat": 4,
 "nbformat_minor": 5
}
