{
 "cells": [
  {
   "cell_type": "markdown",
   "id": "eab97916",
   "metadata": {},
   "source": [
    "# BFS, DFS 개념정리 \n",
    "\n",
    "\n",
    "### 1. BFS(Breathe First Search)\n",
    "- 너비 우선 탐색\n",
    "- 한 단계씩 나아가면서 해당 노드와 같은 레벨에 있는 노드들(즉, 형제 노드들)을 먼저 순회하는 방식\n",
    "- A-B-C-H-D-I-J-M-E-G-K-F-L\n",
    "\n",
    "### 2. DFS(Depth First Search)\n",
    "- 깊이 우선 탐색\n",
    "- 한 노드의 자식을 타고 끝까지 순회한 다음에, 다시 돌아와서 다른 형제의 자식을 타고 내려가며 순회하는 방식\n",
    "- A-B-V-D-E-F-G-H-I-J-K-L-M"
   ]
  },
  {
   "cell_type": "code",
   "execution_count": 6,
   "id": "9c42a248",
   "metadata": {},
   "outputs": [
    {
     "data": {
      "image/png": "[encoded data removed]",
      "text/plain": [
       "<IPython.core.display.Image object>"
      ]
     },
     "execution_count": 6,
     "metadata": {},
     "output_type": "execute_result"
    }
   ],
   "source": [
    "from IPython.display import Image\n",
    "Image(\"./graph_bfs_dfs.png\")"
   ]
  },
  {
   "cell_type": "code",
   "execution_count": 1,
   "id": "945fe1b3",
   "metadata": {},
   "outputs": [
    {
     "name": "stdout",
     "output_type": "stream",
     "text": [
      "['A', 'B', 'C', 'H', 'D', 'I', 'J', 'M', 'E', 'G', 'K', 'F', 'L']\n",
      "['A', 'B', 'H', 'M', 'J', 'K', 'L', 'I', 'C', 'D', 'G', 'E', 'F']\n"
     ]
    }
   ],
   "source": [
    " graph = {\n",
    "    'A': ['B'],\n",
    "    'B': ['A', 'C', 'H'],\n",
    "    'C': ['B', 'D'],\n",
    "    'D': ['C', 'E', 'G'],\n",
    "    'E': ['D', 'F'],\n",
    "    'F': ['E'],\n",
    "    'G': ['D'],\n",
    "    'H': ['B', 'I', 'J', 'M'],\n",
    "    'I': ['H'],\n",
    "    'J': ['H', 'K'],\n",
    "    'K': ['J', 'L'],\n",
    "    'L': ['K'],\n",
    "    'M': ['H']\n",
    "}\n",
    "\n",
    "# BFS 구현 \n",
    "def bfs(graph, start_node):\n",
    "    visit = list()\n",
    "    queue = list()\n",
    "    \n",
    "    queue.append(start_node)\n",
    "    \n",
    "    while queue:\n",
    "        node = queue.pop(0)\n",
    "        if node not in visit:\n",
    "            visit.append(node)\n",
    "            queue.extend(graph[node])\n",
    "            \n",
    "    return visit\n",
    "\n",
    "\n",
    "# DFS 구현 \n",
    "def dfs(graph, start_node):\n",
    "    visit = list()\n",
    "    stack = list()\n",
    "\n",
    "    stack.append(start_node)\n",
    "\n",
    "    while stack:\n",
    "        node = stack.pop()\n",
    "        if node not in visit:\n",
    "            visit.append(node)\n",
    "            stack.extend(graph[node])\n",
    "\n",
    "    return visit\n",
    "\n",
    "if __name__ == \"__main__\":\n",
    "    graph = {\n",
    "        'A': ['B'],\n",
    "        'B': ['A', 'C', 'H'],\n",
    "        'C': ['B', 'D'],\n",
    "        'D': ['C', 'E', 'G'],\n",
    "        'E': ['D', 'F'],\n",
    "        'F': ['E'],\n",
    "        'G': ['D'],\n",
    "        'H': ['B', 'I', 'J', 'M'],\n",
    "        'I': ['H'],\n",
    "        'J': ['H', 'K'],\n",
    "        'K': ['J', 'L'],\n",
    "        'L': ['K'],\n",
    "        'M': ['H']\n",
    "    }\n",
    "\n",
    "    print(bfs(graph, 'A'))\n",
    "    print(dfs(graph, 'A'))"
   ]
  },
  {
   "cell_type": "markdown",
   "id": "98f7564f",
   "metadata": {},
   "source": [
    "# deque \n",
    "\n",
    "- 큐(queue)는 선입선출(FIFO) 방식으로 작동한다. 반면, 양방향 큐가 있는데 그것이 바로 데크(deque)이다.\n",
    "- 즉, 앞 뒤 양쪽 방향에서 엘리먼트(element)를 추가하거나 제거할 수 있다.\n",
    "- 데크는 양 끝 엘리먼트의 append와 pop이 압도적으로 빠르다.\n",
    "- 컨테이너(container)의 양끝 엘리먼트(element)에 접근하여 삽입 또는 제거를 할 경우, 일반적인 리스트(list)가 이러한 연산에 O(n)이 소요되는 데 반해, 데크(deque)는O(1)로 접근이 가능하다."
   ]
  },
  {
   "cell_type": "code",
   "execution_count": 1,
   "id": "001beb1a",
   "metadata": {},
   "outputs": [
    {
     "name": "stdout",
     "output_type": "stream",
     "text": [
      "deque([10])\n",
      "deque([10, 0])\n",
      "deque([0])\n",
      "deque([])\n"
     ]
    }
   ],
   "source": [
    "from collections import deque\n",
    "\n",
    "deq = deque()\n",
    "\n",
    "# Add element to the start\n",
    "deq.appendleft(10)\n",
    "print(deq)\n",
    "# Add element to the end\n",
    "deq.append(0)\n",
    "print(deq)\n",
    "# Pop element from the start\n",
    "deq.popleft()\n",
    "print(deq)\n",
    "# Pop element from the end\n",
    "deq.pop()\n",
    "print(deq)"
   ]
  },
  {
   "cell_type": "markdown",
   "id": "8eda0037",
   "metadata": {},
   "source": [
    "데크(deque)에 존재하는 메서드(method)는 대략 다음과 같다.\n",
    "\n",
    "- deque.append(item) : item을 데크의 오른쪽 끝에 삽입한다.\n",
    "- deque.appendleft(item) : item을 데크의 왼쪽 끝에 삽입한다.\n",
    "- deque.pop() : 데크의 오른쪽 끝 엘리먼트를 가져오는 동시에 데크에서 삭제한다.\n",
    "- deque.popleft() : 데크의 왼쪽 끝 엘리먼트를 가져오는 동시에 데크에서 삭제한다.\n",
    "- deque.extend(array) :  주어진 배열을 순환하면서 데크의 오른쪽에 추가한다.\n",
    "- deque.extendleft(array) : 주어진 배열을 순환하면서 데크의 왼쪽에 추가한다.\n",
    "- deque.remove(item) : item을 데크에서 찾아 삭제한다.\n",
    "- deque.rotate(num) : 데크를 num만큼 회전한다(양수면 오른쪽, 음수면 왼쪽 )"
   ]
  },
  {
   "cell_type": "code",
   "execution_count": 2,
   "id": "98ff23a2",
   "metadata": {},
   "outputs": [
    {
     "name": "stdout",
     "output_type": "stream",
     "text": [
      "deque([5, 1, 2, 3, 4])\n",
      "deque([1, 2, 3, 4, 5])\n"
     ]
    }
   ],
   "source": [
    "# Contain 1, 2, 3, 4, 5 in deq\n",
    "deq = deque([1, 2, 3, 4, 5])\n",
    "\n",
    "deq.rotate(1)\n",
    "print(deq)\n",
    "# deque([5, 1, 2, 3, 4])\n",
    "\n",
    "deq.rotate(-1)\n",
    "print(deq)\n",
    "# deque([1, 2, 3, 4, 5])"
   ]
  },
  {
   "cell_type": "markdown",
   "id": "f426e451",
   "metadata": {},
   "source": [
    "2. 데크(deque), 언제, 왜 써야 하는가 ?\n",
    "\n",
    "요약하자면, 데크는 스택처럼 사용할 수도 있고, 큐처럼 사용할 수도 있따.\n",
    "\n",
    "시작점의 값을 넣고 빼거나, 끝 점의 값을 넣고 빼는 데 최적화된 연산 속도를 제공한다.\n",
    "\n",
    "즉, 대부분의 경우에 데크는 리스트보다 얼등한 옵션이다.\n",
    "\n",
    "데크는 특히 push/pop 연산이 빈번한 알고리즘에서 리스트보다 월등한 속도를 자랑한다."
   ]
  },
  {
   "cell_type": "code",
   "execution_count": null,
   "id": "e745f4b3",
   "metadata": {},
   "outputs": [],
   "source": []
  }
 ],
 "metadata": {
  "kernelspec": {
   "display_name": "Python 3",
   "language": "python",
   "name": "python3"
  },
  "language_info": {
   "codemirror_mode": {
    "name": "ipython",
    "version": 3
   },
   "file_extension": ".py",
   "mimetype": "text/x-python",
   "name": "python",
   "nbconvert_exporter": "python",
   "pygments_lexer": "ipython3",
   "version": "3.9.2"
  }
 },
 "nbformat": 4,
 "nbformat_minor": 5
}
