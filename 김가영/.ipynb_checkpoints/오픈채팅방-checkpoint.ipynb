{
 "cells": [
  {
   "cell_type": "code",
   "execution_count": 10,
   "id": "7bf8a2e7",
   "metadata": {},
   "outputs": [],
   "source": [
    "record = [\"Enter uid1234 Muzi\", \"Enter uid4567 Prodo\",\"Leave uid1234\",\"Enter uid1234 Prodo\",\"Change uid4567 Ryan\"]\n",
    "\n",
    "\n",
    "\n",
    "def solution(record):\n",
    "    answer = []\n",
    "    user_dict = {}\n",
    "    \n",
    "    for sentence in record:\n",
    "        # step 1 : user_id와 nickname 최종본을 dict 형태로 저장해둠 \n",
    "        # setting dict ( user_id & nickname matchig )\n",
    "        # Enter, Change -> insert nickname \n",
    "        # leave : Non-change\n",
    "        if sentence.split(\" \")[0] in [\"Enter\",\"Change\"] :\n",
    "            user_dict[f'{sentence.split(\" \")[1]}'] = sentence.split(\" \")[2]\n",
    "        \n",
    "    for sentence in record:\n",
    "            \n",
    "        # base_name \n",
    "        status = sentence.split(\" \")[0] # Enter\n",
    "        user_id = sentence.split(\" \")[1] # uid1234\n",
    "        nickname = user_dict[f'{user_id}'] # dict에서 uid에 해당하는 nickname 불러옴 \n",
    "        \n",
    "        if sentence.split(\" \")[0] == \"Enter\":\n",
    "            answer.append(f\"{nickname}님이 들어왔습니다.\")\n",
    "        elif sentence.split(\" \")[0] == \"Leave\":\n",
    "            answer.append(f\"{nickname}님이 나갔습니다.\")    \n",
    "    \n",
    "    return answer"
   ]
  },
  {
   "cell_type": "code",
   "execution_count": 11,
   "id": "b89b80a2",
   "metadata": {},
   "outputs": [
    {
     "data": {
      "text/plain": [
       "['Prodo님이 들어왔습니다.', 'Ryan님이 들어왔습니다.', 'Prodo님이 나갔습니다.', 'Prodo님이 들어왔습니다.']"
      ]
     },
     "execution_count": 11,
     "metadata": {},
     "output_type": "execute_result"
    }
   ],
   "source": [
    "solution(record)"
   ]
  }
 ],
 "metadata": {
  "kernelspec": {
   "display_name": "Python 3",
   "language": "python",
   "name": "python3"
  },
  "language_info": {
   "codemirror_mode": {
    "name": "ipython",
    "version": 3
   },
   "file_extension": ".py",
   "mimetype": "text/x-python",
   "name": "python",
   "nbconvert_exporter": "python",
   "pygments_lexer": "ipython3",
   "version": "3.9.2"
  }
 },
 "nbformat": 4,
 "nbformat_minor": 5
}
