{
 "cells": [
  {
   "cell_type": "code",
   "execution_count": 43,
   "id": "df9547d2",
   "metadata": {},
   "outputs": [],
   "source": [
    "map1 = [[1,0,1,1,1],[1,0,1,0,1],[1,0,1,1,1],[1,1,1,0,1],[0,0,0,0,1]]\n",
    "# 11 \n",
    "map2 =[[1,0,1,1,1],[1,0,1,0,1],[1,0,1,1,1],[1,1,1,0,0],[0,0,0,0,1]]\n",
    "# -1 "
   ]
  },
  {
   "cell_type": "code",
   "execution_count": 65,
   "id": "f1fef9d7",
   "metadata": {},
   "outputs": [],
   "source": [
    "def solution(maps):\n",
    "    answer = 0 \n",
    "    \n",
    "    m = len(maps[0])\n",
    "    n = len(maps)\n",
    "\n",
    "    visit = []\n",
    "    stack = []\n",
    "\n",
    "    start_point = maps[0][0]\n",
    "    end_point = [m-1,n-1]\n",
    "    print(f\"end_point: {end_point}\")\n",
    "    #print(start_point, end_point)\n",
    "\n",
    "    stack.append([0,0])\n",
    "\n",
    "    while stack:\n",
    "        node = stack.pop()\n",
    "        i = node[0]\n",
    "        j = node[1]\n",
    "        if node not in visit:        \n",
    "            visit.append(node)\n",
    "            # 위\n",
    "            if i-1>=0:\n",
    "                if maps[i-1][j] == 1:\n",
    "                    stack.append([i-1,j])\n",
    "            # 아래\n",
    "            if i+1<m:            \n",
    "                if maps[i+1][j] == 1:\n",
    "                    stack.append([i+1,j])\n",
    "            # 왼\n",
    "            if j-1>=0:            \n",
    "                if maps[i][j-1] == 1:\n",
    "                    stack.append([i,j-1])\n",
    "            # 오 \n",
    "            if j+1 <n:          \n",
    "                if maps[i][j+1] == 1:\n",
    "                    stack.append([i,j+1])\n",
    "        if visit[-1] == end_point:\n",
    "            break\n",
    "    print(visit)    \n",
    "    if end_point not in visit:\n",
    "        return -1\n",
    "    answer = len(visit)  \n",
    "    return answer"
   ]
  },
  {
   "cell_type": "code",
   "execution_count": 66,
   "id": "590f3faa",
   "metadata": {},
   "outputs": [
    {
     "name": "stdout",
     "output_type": "stream",
     "text": [
      "end_point: [4, 4]\n",
      "[[0, 0], [1, 0], [2, 0], [3, 0], [3, 1], [3, 2], [2, 2], [2, 3], [2, 4], [3, 4], [4, 4]]\n"
     ]
    },
    {
     "data": {
      "text/plain": [
       "11"
      ]
     },
     "execution_count": 66,
     "metadata": {},
     "output_type": "execute_result"
    }
   ],
   "source": [
    "solution(map1)"
   ]
  },
  {
   "cell_type": "code",
   "execution_count": 67,
   "id": "bf8c4cb3",
   "metadata": {},
   "outputs": [
    {
     "name": "stdout",
     "output_type": "stream",
     "text": [
      "end_point: [4, 4]\n",
      "[[0, 0], [1, 0], [2, 0], [3, 0], [3, 1], [3, 2], [2, 2], [2, 3], [2, 4], [1, 4], [0, 4], [0, 3], [0, 2], [1, 2]]\n"
     ]
    },
    {
     "data": {
      "text/plain": [
       "-1"
      ]
     },
     "execution_count": 67,
     "metadata": {},
     "output_type": "execute_result"
    }
   ],
   "source": [
    "solution(map2)"
   ]
  },
  {
   "cell_type": "markdown",
   "id": "c74cede3",
   "metadata": {},
   "source": [
    "# 효율성 떨어짐 "
   ]
  },
  {
   "cell_type": "code",
   "execution_count": null,
   "id": "69c3facb",
   "metadata": {},
   "outputs": [],
   "source": []
  }
 ],
 "metadata": {
  "kernelspec": {
   "display_name": "Python 3",
   "language": "python",
   "name": "python3"
  },
  "language_info": {
   "codemirror_mode": {
    "name": "ipython",
    "version": 3
   },
   "file_extension": ".py",
   "mimetype": "text/x-python",
   "name": "python",
   "nbconvert_exporter": "python",
   "pygments_lexer": "ipython3",
   "version": "3.9.2"
  }
 },
 "nbformat": 4,
 "nbformat_minor": 5
}
