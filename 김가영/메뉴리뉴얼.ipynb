{
 "cells": [
  {
   "cell_type": "code",
   "execution_count": 4,
   "id": "e11647f3",
   "metadata": {},
   "outputs": [],
   "source": [
    "################### solution ########################\n",
    "# 1. 각 배열에서 나올 수 있는 2,3,4 길이의 조합의 수를 모두 만들어 둠 \n",
    "# 2. 모든 경우수를 리스트에 넣어 길이별 mode 값을 뽑으면 된다.\n",
    "# 3. 최소 두명 이상 주문한 목록만 뽑을거라 mode == 1 인 리스트는 제거 \n",
    "# 4. 정답은 오름차순으로 \n",
    "#####################################################\n",
    "\n",
    "from itertools import combinations\n",
    "import statistics\n",
    "\n",
    "def solution(orders, course):\n",
    "    answer = []\n",
    "    # oordersrder 순서 통일\n",
    "    tmp = []\n",
    "    for i in orders:\n",
    "        tmp.append(sorted(i))\n",
    "    orders = tmp\n",
    "        \n",
    "    # n 개의 조합 리스트 \n",
    "    for n in course:\n",
    "        print(f\"{n}개의 조합을 뽑습니다.\")\n",
    "        tmp_list = []\n",
    "        for sentence in orders:\n",
    "            if len(sentence) >= n : \n",
    "                tmp_list = tmp_list + list(combinations(sentence,n))\n",
    "        print(tmp_list)\n",
    "        # mode = 1 인 케이스 제거 \n",
    "        # list - set(list) : 최소 두개 이상인 리스트들만 남음\n",
    "        print(\"mode = 1 인 케이스 제거\")\n",
    "        for i in list(set(tmp_list)):\n",
    "            tmp_list.remove(i)\n",
    "        print(tmp_list)\n",
    "        # 최빈값 추출\n",
    "        print(\"multimode 값을 뽑습니다\")\n",
    "        print(statistics.multimode(tmp_list))\n",
    "        \n",
    "        \n",
    "        answer = answer + statistics.multimode(tmp_list)\n",
    "    # 형태변환 \n",
    "    res = []\n",
    "    for factor in answer:\n",
    "        tmp = \"\"\n",
    "        for i in range(len(factor)):\n",
    "            tmp = tmp + factor[i]\n",
    "        res.append(tmp)\n",
    "    # sort\n",
    "    res.sort()\n",
    "    answer = res \n",
    "    \n",
    "    return answer\n"
   ]
  },
  {
   "cell_type": "markdown",
   "id": "7298e9f1",
   "metadata": {},
   "source": [
    "# 느낀점 "
   ]
  },
  {
   "cell_type": "markdown",
   "id": "077de707",
   "metadata": {},
   "source": [
    "- multomode : (1,1,1,2,2,2,3,3) 중복 최빈값 발생시 둘 다 표시해준다.\n",
    "- remove : 원소를 제거, del : index로 제거 "
   ]
  },
  {
   "cell_type": "code",
   "execution_count": null,
   "id": "ad616eb9",
   "metadata": {},
   "outputs": [],
   "source": [
    "# 도유 풀이 보기 \n",
    "\n",
    "import itertools\n",
    "def solution(orders, course):\n",
    "    answer = []\n",
    "    # 1. 손님 주문별로 조합 만들어서 해쉬맵에서 카운팅\n",
    "    # 2. 해쉬맵 역순 정렬해서 가장 많이 주문한 한 메뉴 혹은 여러 메뉴 찾아서 리스트에 저장\n",
    "    # 3. 리스트 오름차순으로 정렬해서 리턴\n",
    "    for n in course:\n",
    "        d = {}\n",
    "        for order in orders:\n",
    "            cb = itertools.combinations(order, n)\n",
    "            for t in cb:\n",
    "                menu = ''.join(sorted(t))\n",
    "                if menu not in d.keys():\n",
    "                    d[menu] = 1\n",
    "                else:\n",
    "                    d[menu] += 1\n",
    "        rank = sorted(d.items(), key=lambda x:x[1], reverse=True)\n",
    "        if not rank:\n",
    "            continue\n",
    "        max_order = rank[0][1]\n",
    "        if max_order < 2:\n",
    "            continue\n",
    "        answer.append(rank[0][0])\n",
    "        for r in rank[1:]:\n",
    "            if r[1] ==  max_order:\n",
    "                answer.append(r[0])\n",
    "            else:\n",
    "                break\n",
    "    answer.sort()\n",
    "    return answer"
   ]
  },
  {
   "cell_type": "code",
   "execution_count": 39,
   "id": "9d57f377",
   "metadata": {},
   "outputs": [
    {
     "name": "stdout",
     "output_type": "stream",
     "text": [
      "[('BCFG', 2), ('ACDE', 2), ('ABCF', 1), ('ABCG', 1), ('ABFG', 1), ('ACFG', 1), ('ACDH', 1), ('ACEH', 1), ('ADEH', 1), ('CDEH', 1)]\n"
     ]
    }
   ],
   "source": [
    "import itertools\n",
    "\n",
    "orders = [\"ABCFG\", \"AC\", \"CDE\", \"ACDE\", \"BCFG\", \"ACDEH\"]\n",
    "course = [2,3,4]\n",
    "\n",
    "for n in course:\n",
    "    d = {}\n",
    "    for order in orders:\n",
    "        cb = itertools.combinations(order, n)\n",
    "        for t in cb:\n",
    "            menu = ''.join(sorted(t))\n",
    "            if menu not in d.keys():\n",
    "                d[menu] = 1\n",
    "            else :\n",
    "                d[menu] += 1\n",
    "                \n",
    "            rank = sorted(d.items(), key=lambda x:x[1], reverse=True)\n",
    "print(rank)"
   ]
  }
 ],
 "metadata": {
  "kernelspec": {
   "display_name": "Python 3",
   "language": "python",
   "name": "python3"
  },
  "language_info": {
   "codemirror_mode": {
    "name": "ipython",
    "version": 3
   },
   "file_extension": ".py",
   "mimetype": "text/x-python",
   "name": "python",
   "nbconvert_exporter": "python",
   "pygments_lexer": "ipython3",
   "version": "3.9.2"
  }
 },
 "nbformat": 4,
 "nbformat_minor": 5
}
